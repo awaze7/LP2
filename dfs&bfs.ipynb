from collections import defaultdict

class Graph:
    def __init__(self):
        self.graph = defaultdict(list)

    def add_edge(self, u, v):
        self.graph[u].append(v)
        #self.graph[v].append(u) # for undirected graph. without it. it works for directed graph

    def dfs(self, start):
        visited = set()
        self._dfs(start, visited)

    def _dfs(self, u, visited):
        visited.add(u)
        print(u, end=' ')

        for v in self.graph[u]:
            if v not in visited:
                self._dfs(v, visited)

    def bfs(self, start):
      visited = set()
      queue = []

      visited.add(start)
      queue.append(start)

      while queue:
        u = queue.pop(0)
        print(u, end=' ')

        for v in self.graph[u]:
          if v not in visited:
            queue.append(v)
            visited.add(v)

    def dfs_stack(self, start):
        visited=set()
        stack=[]

        visited.add(start)
        stack.append(start)

        while stack:
          u=stack.pop()
          print(u,end=' ')

          for v in self.graph[u]:
            if v not in visited:
              stack.append(v)
              visited.add(v)

                    
# User input for graph
g = Graph()

g.add_edge(0, 1)
g.add_edge(0, 2)
g.add_edge(1, 2)
g.add_edge(2, 0)
g.add_edge(2, 3)
g.add_edge(3, 3)

# g.add_edge(0,1)
# g.add_edge(0,2)
# g.add_edge(1,3)
# g.add_edge(1,4)
# g.add_edge(2,5)
# g.add_edge(2,6)

# g.add_edge(3,6)
start_vertex=3
print("DFS traversal:")
g.dfs(start_vertex)

print("\nDFS traversal(using Stack):")
g.dfs_stack(start_vertex)

print("\nBFS traversal:")
g.bfs(start_vertex)


# or    0
#    1    2
#  3  4  5  6

# vertices = int(input("Enter the number of vertices: "))
# for i in range(vertices):
#     edges = input("Enter the edges for vertex " + str(i) + " (separated by space): ")
#     edges_list = list(map(int, edges.split()))

#     for j in range(1, len(edges_list)):
#         g.add_edge(i, edges_list[j])

# start_vertex = int(input("Enter the starting vertex: "))
