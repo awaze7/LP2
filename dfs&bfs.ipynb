from collections import defaultdict

class Graph:
    def __init__(self):
        self.graph = defaultdict(list)

    def add_edge(self, u, v):
        self.graph[u].append(v)

    def dfs(self, start):
        visited = set()
        self._dfs(start, visited)

    def _dfs(self, u, visited):
        visited.add(u)
        print(u, end=' ')

        for v in self.graph[u]:
            if v not in visited:
                self._dfs(v, visited)

    def bfs(self, start):
      visited = set()
      queue = []

      visited.add(start)
      queue.append(start)

      while queue:
        u = queue.pop(0)
        print(u, end=' ')

        for v in self.graph[u]:
          if v not in visited:
            queue.append(v)
            visited.add(v)

                    
                    
# User input for graph
g = Graph()
g.add_edge(0, 1)
g.add_edge(0, 2)
g.add_edge(1, 2)
g.add_edge(2, 0)
g.add_edge(2, 3)
g.add_edge(3, 3)

# g.add_edge(0,1)
# g.add_edge(0,2)
# g.add_edge(1,3)
# g.add_edge(1,4)
# g.add_edge(2,5)
# g.add_edge(2,6)

# g.add_edge(3,6)
start_vertex=2
print("DFS traversal:")
g.dfs(start_vertex)

print("\n\nBFS traversal:")
g.bfs(start_vertex)
